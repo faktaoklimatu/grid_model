{
 "cells": [
  {
   "attachments": {},
   "cell_type": "markdown",
   "metadata": {},
   "source": [
    "# Load data files from ENTSO-E Transparency Platform\n"
   ]
  },
  {
   "attachments": {},
   "cell_type": "markdown",
   "metadata": {},
   "source": [
    "## Imports\n"
   ]
  },
  {
   "cell_type": "code",
   "execution_count": null,
   "metadata": {},
   "outputs": [],
   "source": [
    "# Add parent dir to the path, so we can load the module\n",
    "\n",
    "import os\n",
    "import sys\n",
    "from itertools import product\n",
    "\n",
    "sys.path.append(os.path.dirname(os.path.abspath(\"\")))\n"
   ]
  },
  {
   "cell_type": "code",
   "execution_count": null,
   "metadata": {
    "metadata": {}
   },
   "outputs": [],
   "source": [
    "from energy_insights.entsoe_downloader import EntsoeDownloader\n",
    "from energy_insights.loaders import EntsoeLoader\n",
    "from energy_insights.region import *\n"
   ]
  },
  {
   "attachments": {},
   "cell_type": "markdown",
   "metadata": {},
   "source": [
    "## Config\n"
   ]
  },
  {
   "cell_type": "code",
   "execution_count": null,
   "metadata": {
    "metadata": {}
   },
   "outputs": [],
   "source": [
    "years = [2019]\n",
    "countries = [AUSTRIA, CZECHIA, GERMANY, POLAND, SLOVAKIA, BOSNIA_HERZEGOVINA, BELGIUM, BULGARIA,\n",
    "             DENMARK, ESTONIA, HUNGARY, SPAIN, FINLAND, FRANCE, GREAT_BRITAIN, GREECE, CROATIA,\n",
    "             SWITZERLAND, ITALY, IRELAND, LITHUANIA, LATVIA, LUXEMBOURG, MONTENEGRO,\n",
    "             NORTH_MACEDONIA, NETHERLANDS, NORWAY, PORTUGAL, ROMANIA, SERBIA, SWEDEN, SLOVENIA]\n"
   ]
  },
  {
   "attachments": {},
   "cell_type": "markdown",
   "metadata": {},
   "source": [
    "## Code\n"
   ]
  },
  {
   "cell_type": "code",
   "execution_count": null,
   "metadata": {
    "metadata": {}
   },
   "outputs": [],
   "source": [
    "loader = EntsoeLoader(data_path=\"../data\")\n",
    "downloader = EntsoeDownloader(data_path=\"../data\")\n",
    "\n",
    "for country, year in product(countries, years):\n",
    "    if loader.get_entsoe_path_if_exists(country, year):\n",
    "        print(f\"Historical data for {country}, year {year} already present, skipping\")\n",
    "    else:\n",
    "        downloader.fetch(country, year)\n"
   ]
  }
 ],
 "metadata": {
  "kernelspec": {
   "display_name": "Python 3",
   "language": "python",
   "name": "python3"
  },
  "language_info": {
   "codemirror_mode": {
    "name": "ipython",
    "version": 3
   },
   "file_extension": ".py",
   "mimetype": "text/x-python",
   "name": "python",
   "nbconvert_exporter": "python",
   "pygments_lexer": "ipython3",
   "version": "3.9.19"
  },
  "orig_nbformat": 4
 },
 "nbformat": 4,
 "nbformat_minor": 2
}
