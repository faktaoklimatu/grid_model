{
  "cells": [
    {
      "cell_type": "markdown",
      "metadata": {},
      "source": [
        "# Grid dispatch optimization by linear programming\n",
        "\n",
        "**⚠️ Warning!** This notebook is out of date and not maintained anymore. Please use the `run_coal_single.py` and `run_coal_all.sh` scripts to run the model and access the latest features. If you encounter any problems, please get in touch with our customer support.\n"
      ]
    },
    {
      "cell_type": "markdown",
      "metadata": {},
      "source": [
        "## Imports\n"
      ]
    },
    {
      "cell_type": "code",
      "execution_count": null,
      "metadata": {},
      "outputs": [],
      "source": [
        "# Add parent dir to the path, so we can load the module\n",
        "\n",
        "import os\n",
        "import sys\n",
        "from copy import deepcopy\n",
        "\n",
        "sys.path.append(os.path.dirname(os.path.abspath(\"\")))\n",
        "\n",
        "from energy_insights.execution_utils import (\n",
        "    get_entsoe_loader,\n",
        "    get_extrapolator,\n",
        "    get_pecd_loader,\n",
        "    optimize_runs,\n",
        ")\n",
        "from energy_insights.region import *\n",
        "from energy_insights.scenarios.czech_coal import (\n",
        "    cz_2025_basic,\n",
        "    cz_2028_basic,\n",
        "    cz_2028_progressive,\n",
        "    global_adjustments,\n",
        "    make_pessimistic_scenario,\n",
        "    make_run,\n",
        ")\n"
      ]
    },
    {
      "cell_type": "markdown",
      "metadata": {},
      "source": [
        "## Config\n"
      ]
    },
    {
      "cell_type": "code",
      "execution_count": null,
      "metadata": {},
      "outputs": [],
      "source": [
        "common_year = 2018\n",
        "# ENTSO-E has only data back to 2010, we need a fallback year for the load.\n",
        "# TODO: Try ENTSO-E 2020 & PECD 2009 -- leapness mismatch.\n",
        "entsoe_year = 2018\n",
        "# NOTE: There's a mismatch between the weather years (common_year and\n",
        "# entsoe_year) and PECD year because we only have weather starting 2019,\n",
        "# but the PECD dataset ends in 2016.\n",
        "pecd_year = 1985\n",
        "aggregation_level = \"coarse\"\n",
        "\n",
        "entsoe_loader = get_entsoe_loader(\"../data\")\n",
        "pecd_loader = get_pecd_loader(\"../data\")\n",
        "extrapolator = get_extrapolator(entsoe_loader, pecd_loader)\n",
        "\n",
        "runs = [\n",
        "    make_run(\n",
        "        \"precerpavacky\",\n",
        "        scenarios=[\n",
        "            {\n",
        "                \"name\": \"2025-cheap-ets\",\n",
        "                \"year\": 2025,\n",
        "                \"adjustments\": cz_2025_basic,\n",
        "                \"global_adjustments\": global_adjustments,\n",
        "                \"input_costs\": \"2025-cheap-ets\",\n",
        "            },\n",
        "            {\n",
        "                \"name\": \"2025-expensive-ets\",\n",
        "                \"year\": 2025,\n",
        "                \"adjustments\": cz_2025_basic,\n",
        "                \"global_adjustments\": global_adjustments,\n",
        "                # \"optimize_capex\": False,\n",
        "            },\n",
        "            {\n",
        "                \"name\": \"2028-slow\",\n",
        "                \"year\": 2028,\n",
        "                \"adjustments\": cz_2028_basic,\n",
        "                \"global_adjustments\": global_adjustments,\n",
        "            },\n",
        "            {\n",
        "                \"name\": \"2028-advanced\",\n",
        "                \"year\": 2028,\n",
        "                \"adjustments\": cz_2028_advanced,\n",
        "                \"global_adjustments\": global_adjustments,\n",
        "            },\n",
        "        ],\n",
        "        aggregation_level=aggregation_level,\n",
        "        common_year=common_year,\n",
        "        entsoe_year=entsoe_year,\n",
        "        pecd_year=pecd_year,\n",
        "        optimize_capex=True,\n",
        "        # Optimize coal capacity in all regions.\n",
        "        optimize_coal=\"all\",\n",
        "        optimize_heat=True,\n",
        "        optimize_ramp_up_costs=True,\n",
        "        root_dir=\"..\",\n",
        "    ),\n",
        "]\n"
      ]
    },
    {
      "cell_type": "markdown",
      "metadata": {},
      "source": [
        "### Pessimistic scenarios\n",
        "\n",
        "A single scenario with pessimistic assumptions:\n",
        "\n",
        "- pick the minimal installed capacities among 2025 and 2028 values,\n",
        "- 20% lower interconnection capacities across the board.\n"
      ]
    },
    {
      "cell_type": "code",
      "execution_count": null,
      "metadata": {},
      "outputs": [],
      "source": [
        "# def minimize_sources(sources1: dict, sources2: dict) -> None:\n",
        "#     for source, source_spec in sources1.items():\n",
        "#         capacity_mw = min(\n",
        "#             source_spec[\"capacity_mw\"],\n",
        "#             sources2.get(source, {}).get(\"capacity_mw\", 0)\n",
        "#         )\n",
        "#         source_spec[\"capacity_mw\"] = capacity_mw\n",
        "#         # Respect capex optimization.\n",
        "#         source_spec[\"min_capacity_mw\"] = (\n",
        "#             0 if source_spec.get(\"min_capacity_mw\", 0) == 0\n",
        "#             else capacity_mw\n",
        "#         )\n",
        "\n",
        "\n",
        "# def scale_intercon_capacities(scenario: dict, factor: float) -> dict:\n",
        "#     interconnectors: InterconnectorsDict = scenario[\"interconnectors\"]\n",
        "\n",
        "#     for destination_map in interconnectors.values():\n",
        "#         for link_spec in destination_map.values():\n",
        "#             link_spec[\"capacity_mw\"] *= factor\n",
        "\n",
        "#     return scenario\n",
        "\n",
        "\n",
        "# scenario_2025, scenario_2028, _ = runs[0][\"scenarios\"]\n",
        "# scenario_min = deepcopy(scenario_2028)\n",
        "# scenario_min[\"name\"] = \"2028-pessi\"\n",
        "\n",
        "# for country, spec_min in scenario_min[\"countries\"].items():\n",
        "#     spec_2025 = scenario_2025[\"countries\"][country]\n",
        "\n",
        "#     # Reconcile basic sources.\n",
        "#     minimize_sources(spec_min[\"basic_sources\"], spec_2025[\"basic_sources\"])\n",
        "\n",
        "#     # Reconcile flexible sources.\n",
        "#     minimize_sources(spec_min[\"flexible_sources\"], spec_2025[\"flexible_sources\"])\n",
        "\n",
        "# # Reduce interconnection capacities left by 20% (compared to 2025).\n",
        "# scale_intercon_capacities(scenario_min, .8)\n",
        "\n",
        "# # Increase Czech electricity demand by 10%.\n",
        "# scenario_min[\"countries\"][CZECHIA][\"load_factors\"][\"load_base\"] = 1.0\n",
        "\n",
        "# # Construct a run by copying the base one.\n",
        "# run_min = deepcopy(runs[0])\n",
        "# run_min[\"config\"][\"analysis_name\"] = \"coaldown-pessi\"\n",
        "# run_min[\"scenarios\"] = [scenario_min]\n",
        "\n",
        "# # runs.insert(0, run_min)\n",
        "# runs = [run_min]\n"
      ]
    },
    {
      "cell_type": "markdown",
      "metadata": {},
      "source": [
        "## Execution\n"
      ]
    },
    {
      "cell_type": "code",
      "execution_count": null,
      "metadata": {},
      "outputs": [],
      "source": [
        "optimize_runs(\n",
        "    runs,\n",
        "    entsoe_loader=entsoe_loader,\n",
        "    pecd_loader=pecd_loader\n",
        ")\n"
      ]
    }
  ],
  "metadata": {
    "kernelspec": {
      "display_name": "Python 3.9.15 64-bit",
      "language": "python",
      "name": "python3"
    },
    "language_info": {
      "codemirror_mode": {
        "name": "ipython",
        "version": 3
      },
      "file_extension": ".py",
      "mimetype": "text/x-python",
      "name": "python",
      "nbconvert_exporter": "python",
      "pygments_lexer": "ipython3",
      "version": "3.9.18"
    },
    "orig_nbformat": 4,
    "vscode": {
      "interpreter": {
        "hash": "a665b5d41d17b532ea9890333293a1b812fa0b73c9c25c950b3cedf1bebd0438"
      }
    }
  },
  "nbformat": 4,
  "nbformat_minor": 2
}
