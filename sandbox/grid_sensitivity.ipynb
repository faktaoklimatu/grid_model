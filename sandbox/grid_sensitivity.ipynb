{
 "cells": [
  {
   "cell_type": "markdown",
   "metadata": {},
   "source": [
    "# Grid extrapolation of low-carbon generation - sensitivity analysis"
   ]
  },
  {
   "cell_type": "markdown",
   "metadata": {},
   "source": [
    "## Imports"
   ]
  },
  {
   "cell_type": "code",
   "execution_count": 1,
   "metadata": {},
   "outputs": [],
   "source": [
    "import math\n",
    "import datetime\n",
    "import numpy as np\n",
    "import pandas as pd\n",
    "import matplotlib as mpl\n",
    "import matplotlib.pyplot as plt\n",
    "import matplotlib.ticker as mtick\n",
    "import subprocess\n",
    "from copy import deepcopy\n"
   ]
  },
  {
   "cell_type": "code",
   "execution_count": 2,
   "metadata": {},
   "outputs": [],
   "source": [
    "# Add parent dir to the path, so we can load the module\n",
    "\n",
    "import os\n",
    "import sys\n",
    "sys.path.append(os.path.dirname(os.path.abspath('')))\n"
   ]
  },
  {
   "cell_type": "code",
   "execution_count": 3,
   "metadata": {},
   "outputs": [],
   "source": [
    "from energy_insights.region import *\n",
    "from energy_insights.hourly_data_extrapolator import HourlyDataExtrapolator\n",
    "from energy_insights.sensitivity_grid_plot import SensitivityGridPlot\n",
    "from energy_insights.params_library.factors import fill_factors_separate, get_factors_separate\n",
    "from energy_insights.params_utils import merge_config_into_scenario\n",
    "from energy_insights.plot_strings import get_grid_strings\n",
    "from energy_insights.plot_utils import get_scenario_out_file\n"
   ]
  },
  {
   "cell_type": "markdown",
   "metadata": {},
   "source": [
    "## Config"
   ]
  },
  {
   "cell_type": "code",
   "execution_count": 4,
   "metadata": {},
   "outputs": [],
   "source": [
    "runs = [\n",
    "    {\n",
    "        'config': {\n",
    "            'countries': [GERMANY, CZECHIA],\n",
    "            'year': 2021,\n",
    "            \"analysis_name\": \"grid-sensitivity\",\n",
    "            'factors': {\n",
    "                'load_summer': 1.15, 'load_winter': 1.55,\n",
    "                'generation_solar': 3.58, 'generation_onshore': 2, 'generation_offshore': 3.9,\n",
    "                'generation_hydro': 1,'generation_nuclear': 0.33},\n",
    "        },\n",
    "        'scenarios': [\n",
    "            {\n",
    "                'name': 'solar',\n",
    "                'sensitivity': {\n",
    "                    'group_name': 'factors',\n",
    "                    'param_name': 'generation_solar',\n",
    "                    'values': [1, 2, 3, 4, 5],\n",
    "                    'bar_width': 0.3,\n",
    "                }\n",
    "            },\n",
    "            {\n",
    "                'name': 'onshore',\n",
    "                'sensitivity': {\n",
    "                    'group_name': 'factors',\n",
    "                    'param_name': 'generation_onshore',\n",
    "                    'values': [1, 1.5, 2, 2.5, 3],\n",
    "                    'bar_width': 0.15,\n",
    "                }\n",
    "            },\n",
    "            {\n",
    "                'name': 'offshore',\n",
    "                'sensitivity': {\n",
    "                    'group_name': 'factors',\n",
    "                    'param_name': 'generation_offshore',\n",
    "                    'values': [2, 3, 4, 5, 6],\n",
    "                    'bar_width': 0.3,\n",
    "                }\n",
    "            },\n",
    "            {\n",
    "                'name': 'nuclear',\n",
    "                'sensitivity': {\n",
    "                    'group_name': 'factors',\n",
    "                    'param_name': 'generation_nuclear',\n",
    "                    'values': [0, 0.33, 0.5, 0.66, 1],\n",
    "                    'bar_width': 0.1,\n",
    "                }\n",
    "            },\n",
    "        ]\n",
    "    },\n",
    "]\n"
   ]
  },
  {
   "cell_type": "markdown",
   "metadata": {},
   "source": [
    "## Code"
   ]
  },
  {
   "cell_type": "code",
   "execution_count": 5,
   "metadata": {},
   "outputs": [
    {
     "name": "stdout",
     "output_type": "stream",
     "text": [
      "Run number #0\n",
      "Running scenario ‘solar’\n",
      "Plotting sensitivity graph... Done\n",
      "Running scenario ‘onshore’\n",
      "Plotting sensitivity graph... Done\n",
      "Running scenario ‘offshore’\n",
      "Plotting sensitivity graph... Done\n",
      "Running scenario ‘nuclear’\n",
      "Plotting sensitivity graph... Done\n"
     ]
    },
    {
     "data": {
      "text/plain": [
       "<Figure size 1296x864 with 0 Axes>"
      ]
     },
     "metadata": {},
     "output_type": "display_data"
    }
   ],
   "source": [
    "for run_number, run in enumerate(runs):\n",
    "    config = run['config']\n",
    "    print(f\"\\nRun number #{run_number}: {config['analysis_name']}\")\n",
    "\n",
    "    for scenario in run['scenarios']:\n",
    "        print(f\"\\nRunning scenario ‘{scenario['name']}’\")\n",
    "\n",
    "        params = merge_config_into_scenario(config, scenario)\n",
    "        # Expand params from a library\n",
    "        if 'factors_separate' in params:\n",
    "            params['factors_separate'] = get_factors_separate(params['factors_separate'])\n",
    "        else:\n",
    "            params['factors_separate'] = fill_factors_separate(\n",
    "                params['factors'], params['countries'])\n",
    "\n",
    "        title, subtitle, factors_str, name = get_grid_strings(params, params['factors_separate'])\n",
    "        out_filename = get_scenario_out_file(params[\"name\"], params.get(\"analysis_name\", None))\n",
    "\n",
    "        # Run the optimization for each sensitivity value\n",
    "        sensitivity = params['sensitivity']\n",
    "        group_name = sensitivity['group_name']\n",
    "        param_name = sensitivity['param_name']\n",
    "        df_list = []\n",
    "        params_list = []\n",
    "        for value in sensitivity['values']:\n",
    "            modified_params = deepcopy(params)\n",
    "            modified_params[group_name][param_name] = value\n",
    "\n",
    "            extrapolator = HourlyDataExtrapolator(data_path='../data')\n",
    "            data = extrapolator.extrapolate_hourly_data_sum(\n",
    "                modified_params['factors_separate'], params['year'])\n",
    "            df_list.append(data)\n",
    "            params_list.append(modified_params)\n",
    "\n",
    "        plot = SensitivityGridPlot(sensitivity, params_list, df_list,\n",
    "                                   title, subtitle, factors_str, out_filename, name)\n",
    "        plot.print_graph()\n"
   ]
  }
 ],
 "metadata": {
  "kernelspec": {
   "display_name": "Python 3.9.12 ('base')",
   "language": "python",
   "name": "python3"
  },
  "language_info": {
   "codemirror_mode": {
    "name": "ipython",
    "version": 3
   },
   "file_extension": ".py",
   "mimetype": "text/x-python",
   "name": "python",
   "nbconvert_exporter": "python",
   "pygments_lexer": "ipython3",
   "version": "3.9.12 (main, Apr  5 2022, 01:53:17) \n[Clang 12.0.0 ]"
  },
  "orig_nbformat": 4,
  "vscode": {
   "interpreter": {
    "hash": "bc3c161b12c365bd53b006eaf7b60f296143ba72688c762f2c3f2b693dac874a"
   }
  }
 },
 "nbformat": 4,
 "nbformat_minor": 2
}
