{
  "cells": [
    {
      "cell_type": "markdown",
      "metadata": {},
      "source": [
        "# Grid extrapolation of low-carbon generation"
      ]
    },
    {
      "cell_type": "markdown",
      "metadata": {},
      "source": [
        "## Imports"
      ]
    },
    {
      "cell_type": "code",
      "execution_count": 1,
      "metadata": {},
      "outputs": [],
      "source": [
        "# Add parent dir to the path, so we can load the module\n",
        "\n",
        "import os\n",
        "import sys\n",
        "sys.path.append(os.path.dirname(os.path.abspath('')))\n"
      ]
    },
    {
      "cell_type": "code",
      "execution_count": 2,
      "metadata": {},
      "outputs": [],
      "source": [
        "import pandas as pd\n",
        "\n",
        "import energy_insights.params_library.basic_source\n",
        "from energy_insights.region import *\n",
        "from energy_insights.country_grid import CountryGrid\n",
        "from energy_insights.country_grid_stats import CountryGridStats\n",
        "from energy_insights.hourly_data_extrapolator import HourlyDataExtrapolator\n",
        "from energy_insights.yearly_grid_plot import YearlyGridPlot\n",
        "from energy_insights.yearly_filter import YearlyFilter\n",
        "from energy_insights.params_library.interconnectors import get_interconnectors\n",
        "from energy_insights.params_utils import merge_config_into_scenario\n",
        "from energy_insights.plot_strings import get_grid_strings\n",
        "from energy_insights.plot_utils import get_scenario_out_dir, remove_scenario_out_dir_if_empty, get_analysis_out_dir\n",
        "from energy_insights.sources.basic_source import get_basic_sources\n"
      ]
    },
    {
      "cell_type": "markdown",
      "metadata": {},
      "source": [
        "## Config"
      ]
    },
    {
      "cell_type": "code",
      "execution_count": 3,
      "metadata": {},
      "outputs": [],
      "source": [
        "runs = [\n",
        "    {\n",
        "        'config': {\n",
        "            \"year\": 2021,\n",
        "            \"analysis_name\": \"grid-plot\",\n",
        "            \"filter\": {\n",
        "                'week_sampling': 4\n",
        "            },\n",
        "            \"output\": {\n",
        "                'regions': 'aggregate',\n",
        "                'separate_excess': False,\n",
        "                'format': \"png\",\n",
        "                'dpi': 100,\n",
        "                'parts': ['titles', 'weeks', 'week_summary', 'year_stats'],\n",
        "            }\n",
        "        },\n",
        "        'scenarios': [\n",
        "            # {  # TODO: Clean up / make work after refactoring. This is tricky w.r.t. \"current\".\n",
        "            #     \"name\": \"2021-soucasnost\",\n",
        "            #     \"countries\": {\n",
        "            #         CZECHIA: {\"load_factors\": \"current\"},\n",
        "            #         GERMANY: {\"load_factors\": \"current\"},\n",
        "            #     },\n",
        "            #     \"interconnectors\": \"2021\",\n",
        "            # },\n",
        "            # {\n",
        "            #     \"name\": \"2030-plan\",\n",
        "            #     \"countries\": {\n",
        "            #         CZECHIA: {\n",
        "            #             \"load_factors\": \"cz-2030-basic\",\n",
        "            #             \"basic_sources\": \"cz-2030-basic\",\n",
        "            #         },\n",
        "            #         GERMANY: {\n",
        "            #             \"load_factors\": \"de-2030-government-plans-achieved\",\n",
        "            #             \"basic_sources\": \"de-2030-government-plans-achieved\",\n",
        "            #         }\n",
        "            #     },\n",
        "            #     \"interconnectors\": \"2021\",\n",
        "            # },\n",
        "            # {\n",
        "            #     \"name\": \"2030-plan-with-cz\",\n",
        "            #     \"countries\": {\n",
        "            #         CZECHIA: {\n",
        "            #             \"load_factors\": \"cz-2050-explainer-scenario\",\n",
        "            #             \"basic_sources\": \"cz-2050-explainer-biomass-scenario\",\n",
        "            #         },\n",
        "            #         GERMANY: {\n",
        "            #             \"load_factors\": \"de-2030-government-plans-achieved\",\n",
        "            #             \"basic_sources\": \"de-2030-government-plans-achieved\",\n",
        "            #         },\n",
        "            #     },\n",
        "            #     \"interconnectors\": \"2021\",\n",
        "            # },\n",
        "        ]\n",
        "    },\n",
        "]\n"
      ]
    },
    {
      "cell_type": "markdown",
      "metadata": {},
      "source": [
        "## Code"
      ]
    },
    {
      "cell_type": "code",
      "execution_count": 4,
      "metadata": {},
      "outputs": [
        {
          "name": "stdout",
          "output_type": "stream",
          "text": [
            "\n",
            "Run number #0: grid-plot\n",
            "\n",
            "Run number #1: topaz-plot\n",
            "\n",
            "Running scenario ‘cz-2030-topaz-basic’\n",
            "Plotting yearly graph for CZ\n",
            "Plotting yearly graph... Done\n",
            "\n",
            "Running scenario ‘cz-2030-topaz-advanced’\n",
            "Plotting yearly graph for CZ\n",
            "Plotting yearly graph... Done\n"
          ]
        },
        {
          "data": {
            "text/plain": [
              "<Figure size 1339.2x1728 with 0 Axes>"
            ]
          },
          "metadata": {},
          "output_type": "display_data"
        }
      ],
      "source": [
        "extrapolator = HourlyDataExtrapolator(data_path='../data')\n",
        "\n",
        "for run_number, run in enumerate(runs):\n",
        "    config = run['config']\n",
        "    print(f\"\\nRun number #{run_number}: {config['analysis_name']}\")\n",
        "\n",
        "    all_stats_per_scenario = []\n",
        "\n",
        "    for scenario in run['scenarios']:\n",
        "        print(f\"\\nRunning scenario ‘{scenario['name']}’\")\n",
        "\n",
        "        params = merge_config_into_scenario(config, scenario)\n",
        "        # Expand params from a library\n",
        "        data_year = params['year']\n",
        "        interconnectors = get_interconnectors(\n",
        "            params.get('interconnectors', {}), params[\"countries\"].keys())\n",
        "\n",
        "        grids: dict[Region, CountryGrid] = {}\n",
        "        load_factors_separate: dict[Region, dict] = {}\n",
        "        installed_separate: dict[Region, dict] = {}\n",
        "        for country, country_params in params[\"countries\"].items():\n",
        "            load_factors = country_params[\"load_factors\"]\n",
        "            load_factors_separate[country] = load_factors\n",
        "            installed_map_gw = {\n",
        "                key: source.capacity_mw for key, source in basic_sources.items()\n",
        "            }\n",
        "\n",
        "            basic_sources = get_basic_sources(country_params[\"basic_sources\"])\n",
        "            data = extrapolator.extrapolate_hourly_country_data(\n",
        "                country, data_year, None, data_year, load_factors, basic_sources, installed_map_gw, {},\n",
        "                load_hydro_from_pecd=False, load_demand_from_pecd=False)\n",
        "            installed_separate[country] = installed_map_gw\n",
        "\n",
        "            grids[country] = CountryGrid(country, data, basic_sources, [], [])\n",
        "\n",
        "        extrapolator.estimate_interconnector_flows(grids, interconnectors)\n",
        "        title_format, subtitle_format, factors_str, name = get_grid_strings(\n",
        "            params, load_factors_separate, installed_separate)\n",
        "        out_dir = get_scenario_out_dir(params[\"name\"], params.get(\"analysis_name\", None))\n",
        "\n",
        "        yearly_filter = YearlyFilter.build(params[\"filter\"])\n",
        "        output = params[\"output\"]\n",
        "        only_aggregate: bool = output.get('regions', 'aggregate') == 'aggregate'\n",
        "        grids_to_plot = CountryGrid.aggregate_grids(\n",
        "            CountryGrid.filter_grids(grids, yearly_filter), only_aggregate)\n",
        "\n",
        "        stats_to_plot: dict[Region, CountryGridStats] = {}\n",
        "        for region, grid in grids_to_plot.items():\n",
        "            stat = CountryGridStats(region, grid, interconnectors, params[\"name\"])\n",
        "            stats_to_plot[region] = stat\n",
        "            all_stats_per_scenario += stat.get_stats_for_logging()\n",
        "\n",
        "        plot = YearlyGridPlot(stats_to_plot, data_year, yearly_filter, output,\n",
        "                              title_format, subtitle_format, factors_str, out_dir, name)\n",
        "        plot.print_graph()\n",
        "        remove_scenario_out_dir_if_empty(out_dir)\n",
        "\n",
        "    if all_stats_per_scenario:\n",
        "        analysis_df = pd.DataFrame(all_stats_per_scenario)\n",
        "        out_dir = get_analysis_out_dir(config.get(\"analysis_name\", None))\n",
        "        analysis_df.to_csv(out_dir / \"analysis.csv\")\n",
        "        analysis_df.pivot(index=['name', 'region', 'season', 'stat'],\n",
        "                          columns='source', values='val').to_csv(out_dir / \"analysis-pivot.csv\")\n"
      ]
    }
  ],
  "metadata": {
    "kernelspec": {
      "display_name": "Python 3.9.15 64-bit",
      "language": "python",
      "name": "python3"
    },
    "language_info": {
      "codemirror_mode": {
        "name": "ipython",
        "version": 3
      },
      "file_extension": ".py",
      "mimetype": "text/x-python",
      "name": "python",
      "nbconvert_exporter": "python",
      "pygments_lexer": "ipython3",
      "version": "3.9.18"
    },
    "orig_nbformat": 4,
    "vscode": {
      "interpreter": {
        "hash": "a665b5d41d17b532ea9890333293a1b812fa0b73c9c25c950b3cedf1bebd0438"
      }
    }
  },
  "nbformat": 4,
  "nbformat_minor": 2
}
