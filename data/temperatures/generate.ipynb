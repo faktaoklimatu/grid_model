{
 "cells": [
  {
   "cell_type": "markdown",
   "metadata": {},
   "source": [
    "# Generate synthetic hourly data set from daily extreme data (CHMU)\n"
   ]
  },
  {
   "cell_type": "code",
   "execution_count": 1,
   "metadata": {},
   "outputs": [],
   "source": [
    "import datetime\n",
    "import math\n",
    "import numpy as np\n",
    "import pandas as pd"
   ]
  },
  {
   "cell_type": "code",
   "execution_count": 2,
   "metadata": {},
   "outputs": [],
   "source": [
    "station = \"Turany\"\n",
    "start_year = 2016\n",
    "end_year = 2021"
   ]
  },
  {
   "cell_type": "code",
   "execution_count": 3,
   "metadata": {},
   "outputs": [],
   "source": [
    "def get_factor(x: float) -> float:\n",
    "    \"\"\" \n",
    "    For input on the range of [0, 1], return factor on the range of [0, 1] with \"smooth\" sine\n",
    "    shape such that 0 -> 0, 1 -> 1, 0.5 -> 0.5.\n",
    "    \"\"\"\n",
    "    input = (1 - x) * math.pi\n",
    "    output = math.cos(input)\n",
    "    # Output is on the range of [-1, 1], rescale to [0, 1]:\n",
    "    return (output + 1) / 2\n",
    "\n",
    "def read_temperature_csv(filename, metric):\n",
    "    df = pd.read_csv(filename, delimiter=\";\", decimal=\",\")\n",
    "    df['date'] = pd.to_datetime({\"year\": df[\"Year\"], \"month\": df[\"Month\"], \"day\": df[\"Day\"]})\n",
    "    df.set_index('date', inplace=True)\n",
    "    val = df.loc[(start_year <= val.index.year) & (val.index.year <= end_year), ['Value']]\n",
    "    return val.rename(columns={'Value': metric})\n",
    "\n",
    "\n",
    "min = read_temperature_csv(station + \"-min.csv\", \"min\")\n",
    "max = read_temperature_csv(station + \"-max.csv\", \"max\")\n",
    "df = min.join(max, how='inner')\n",
    "df['next_min'] = df['min'].shift(-1)\n",
    "df['last_max'] = df['max'].shift(1)\n",
    "df.fillna({'next_min': df['min'], 'last_max': df['max']}, inplace=True)\n",
    "\n",
    "# Create a synthetic table of hourly factors (min value at 5:00, max value at 15:00).\n",
    "factors_15_23 = [get_factor(0.071 * x) for x in range(9)]\n",
    "factors_0_4 = [get_factor(0.071 * (x + 9)) for x in range(5)]\n",
    "factors_6_14 = [get_factor(1 - 0.1 * x) for x in range(10)]\n",
    "factor_min = factors_0_4 + factors_6_14 + [0 for x in range(9)]\n",
    "factor_next_min = [0 for x in range(15)] + factors_15_23\n",
    "factor_last_max = [1 - x for x in factors_0_4] + [0 for x in range(19)]\n",
    "factor_max = [0 for x in range(5)] + [1 - x for x in factors_6_14] + [1 - x for x in factors_15_23]\n",
    "daily = pd.DataFrame({'hour': range(24), 'factor_min': factor_min, 'factor_next_min': factor_next_min,\n",
    "                     'factor_last_max': factor_last_max, 'factor_max': factor_max})\n",
    "\n",
    "# Create the synthetic temperature record as a cross product.\n",
    "cross = df.reset_index().merge(daily, how=\"cross\")\n",
    "# With temperature being calculated from min and max\n",
    "cross[\"temperature\"] = cross[\"min\"] * cross[\"factor_min\"] + cross[\"next_min\"] * cross[\"factor_next_min\"] \\\n",
    "    + cross[\"last_max\"] * cross[\"factor_last_max\"] + cross[\"max\"] * cross[\"factor_max\"]\n",
    "cross['datetime'] = pd.to_datetime(cross['date'].apply(str) + \" \" + cross['hour'].apply(str) + \":00\")\n",
    "cross.set_index('datetime', inplace=True)\n",
    "result = cross.loc[:, ['temperature']]\n",
    "result.to_csv(station + '.csv', float_format='%.2f')\n"
   ]
  }
 ],
 "metadata": {
  "kernelspec": {
   "display_name": "Python 3",
   "language": "python",
   "name": "python3"
  },
  "language_info": {
   "codemirror_mode": {
    "name": "ipython",
    "version": 3
   },
   "file_extension": ".py",
   "mimetype": "text/x-python",
   "name": "python",
   "nbconvert_exporter": "python",
   "pygments_lexer": "ipython3",
   "version": "3.9.15"
  },
  "orig_nbformat": 4,
  "vscode": {
   "interpreter": {
    "hash": "a665b5d41d17b532ea9890333293a1b812fa0b73c9c25c950b3cedf1bebd0438"
   }
  }
 },
 "nbformat": 4,
 "nbformat_minor": 2
}
